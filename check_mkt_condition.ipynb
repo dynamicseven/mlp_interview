{
 "cells": [
  {
   "cell_type": "markdown",
   "metadata": {},
   "source": [
    "### Check if market data is good or bad"
   ]
  },
  {
   "cell_type": "markdown",
   "metadata": {},
   "source": [
    "#### Key factors determining if we can trade on with the current market condition:\n",
    "  *  Market data is accurate: \n",
    "      * Deviation of data from two vendor is within certain range / exactly the same\n",
    "  *  Market condition allows us to carry out the trade: \n",
    "      * Liquidity is adequate in the market (Volume)\n",
    "      * Spread is ideally within certain range so friction cost is acceptable"
   ]
  },
  {
   "cell_type": "code",
   "execution_count": 6,
   "metadata": {},
   "outputs": [],
   "source": [
    "class OrderBook:\n",
    "    def __init__(self, vendor, ticker, timestamp, bids, asks):\n",
    "        \"\"\" \n",
    "        Compare two order books based on various criteria.\n",
    "        :param book1: First OrderBook object\n",
    "        :param book2: Second OrderBook object\n",
    "        :param price_deviation_threshold: Maximum allowed deviation in prices for accuracy\n",
    "        :param volume_threshold: Minimum volume for liquidity check\n",
    "        :param spread_threshold: Maximum spread for acceptable friction cost\n",
    "        :param jump_threshold: Maximum allowed jump in price relative to the moving average\n",
    "        :return: Boolean indicating if the market data is good (True) or bad (False)\n",
    "        \"\"\"\n",
    "        self.vendor = vendor\n",
    "        self.ticker = ticker\n",
    "        self.timestamp = timestamp \n",
    "        self.bids = bids  # List of (price, volume)\n",
    "        self.asks = asks  # List of (price, volume)\n",
    "\n",
    "    def get_spread(self):\n",
    "        best_bid = self.bids[0][0]\n",
    "        best_ask = self.asks[0][0]\n",
    "        return best_ask - best_bid\n",
    "    \n",
    "    def get_total_volumn(self):\n",
    "        bid_total_volume =  sum([volumn for _,volumn in self.bids])\n",
    "        ask_total_volume =  sum([volumn for _,volumn in self.asks])\n",
    "        return bid_total_volume,ask_total_volume\n",
    "\n",
    "    def get_depth_volumn(self, level):\n",
    "        bid_volume = sum([volume for _, volume in self.bids[:level]])\n",
    "        ask_volume = sum([volume for _, volume in self.asks[:level]])\n",
    "        return bid_volume, ask_volume\n",
    "    \n",
    "    def is_similar(self, other, price_threshold=0.05, volume_threshold=50):\n",
    "        ''' \n",
    "            Use to check if two ordrebook objects are within some similarity threshold\n",
    "        '''\n",
    "        for level in range(10):\n",
    "            self_bid_price, self_bid_volume = self.bids[level]\n",
    "            other_bid_price, other_bid_volume = other.bids[level]\n",
    "            self_ask_price, self_ask_volume = self.asks[level]\n",
    "            other_ask_price, other_ask_volume = other.asks[level]\n",
    "\n",
    "            # Check price and volume for both bids and asks\n",
    "            if abs(self_bid_price - other_bid_price) > price_threshold or \\\n",
    "               abs(self_bid_volume - other_bid_volume) > volume_threshold or \\\n",
    "               abs(self_ask_price - other_ask_price) > price_threshold or \\\n",
    "               abs(self_ask_volume - other_ask_volume) > volume_threshold:\n",
    "                return False\n",
    "        return True\n",
    "    \n",
    "    def check_liquidity(self, volume_threshold):\n",
    "        total_volume = sum(self.get_total_volumn())\n",
    "        return total_volume >= volume_threshold\n",
    "    \n",
    "    \n",
    "    def check_balanced_mkt(self, difference_threshold):\n",
    "        bid_ask_vol_differnence = abs(self.get_total_volumn[0] - self.get_total_volumn[1])\n",
    "        return bid_ask_vol_differnence <= difference_threshold  \n",
    "\n",
    "    def check_spread(self, spread_threshold):\n",
    "        return self.get_spread() <= spread_threshold\n",
    "    \n"
   ]
  },
  {
   "cell_type": "code",
   "execution_count": 15,
   "metadata": {},
   "outputs": [],
   "source": [
    "threshold = {\n",
    "    'liquidity_threshold' : 1000,\n",
    "    'spread_threshold' : 0.5,\n",
    "}\n",
    "# Function to compare two order books\n",
    "def compare_order_books(book1, book2,threshold):\n",
    "    \n",
    "    # Check two vendor agree with each other\n",
    "    if not book1.is_similar(book2):\n",
    "        print(\"Data Quality Issue ::: Data from two vendors deviating too much\")\n",
    "        return False\n",
    "\n",
    "    # Check market liquidity\n",
    "    liquidity_threshold = threshold['liquidity_threshold'] # change for ideal liquidity threshold\n",
    "    if not book1.check_liquidity(liquidity_threshold):\n",
    "        print(\"Market Condition Issue ::: Market Liquidity below threshold\")\n",
    "        return False\n",
    "    \n",
    "    # Check spread of market \n",
    "    spread_threshold = threshold['spread_threshold']\n",
    "    if not book1.check_spread(spread_threshold):\n",
    "        print(\"Market Condition Issue ::: Market spread is above threshold\")\n",
    "        return False\n",
    "        \n",
    "    return True\n",
    "\n"
   ]
  },
  {
   "cell_type": "code",
   "execution_count": 16,
   "metadata": {},
   "outputs": [
    {
     "name": "stdout",
     "output_type": "stream",
     "text": [
      "Data Quality Issue ::: Data from two vendors deviating too much\n",
      "False\n"
     ]
    }
   ],
   "source": [
    "# Example usage with 10 levels of bids and asks\n",
    "bids1 = [(150 - i*0.5, 100 + i*10) for i in range(10)]\n",
    "asks1 = [(151 + i*0.5, 150 + i*10) for i in range(10)]\n",
    "book1 = OrderBook('Vendor1', 'AAPL', '2023-11-17 09:30:00', bids1, asks1)\n",
    "\n",
    "bids2 = [(150.5 - i*0.5, 120 + i*15) for i in range(10)]\n",
    "asks2 = [(152 + i*0.5, 130 + i*15) for i in range(10)]\n",
    "book2 = OrderBook('Vendor2', 'AAPL', '2023-11-17 09:30:00', bids2, asks2)\n",
    "\n",
    "comparison_1 = compare_order_books(book1, book2,threshold)\n",
    "print(comparison_1)"
   ]
  },
  {
   "cell_type": "code",
   "execution_count": 17,
   "metadata": {},
   "outputs": [
    {
     "name": "stdout",
     "output_type": "stream",
     "text": [
      "Market Condition Issue ::: Market spread is above threshold\n",
      "False\n"
     ]
    }
   ],
   "source": [
    "bids1 = [(150 - i*0.5, 10 + i*10) for i in range(10)]\n",
    "asks1 = [(151 + i*0.5, 10 + i*10) for i in range(10)]\n",
    "book1 = OrderBook('Vendor1', 'AAPL', '2023-11-17 09:30:00', bids1, asks1)\n",
    "\n",
    "bids2 = [(150 - i*0.5, 10 + i*15) for i in range(10)]\n",
    "asks2 = [(151 + i*0.5, 10 + i*15) for i in range(10)]\n",
    "book2 = OrderBook('Vendor2', 'AAPL', '2023-11-17 09:30:00', bids2, asks2)\n",
    "\n",
    "comparison_2 = compare_order_books(book1, book2,threshold)\n",
    "print(comparison_2)"
   ]
  },
  {
   "cell_type": "code",
   "execution_count": 18,
   "metadata": {},
   "outputs": [
    {
     "name": "stdout",
     "output_type": "stream",
     "text": [
      "Market Condition Issue ::: Market Liquidity below threshold\n",
      "False\n"
     ]
    }
   ],
   "source": [
    "bids1 = [(150 - i*0.5, 1 + i*10) for i in range(10)]\n",
    "asks1 = [(150.5 + i*0.5, 1 + i*10) for i in range(10)]\n",
    "book1 = OrderBook('Vendor1', 'AAPL', '2023-11-17 09:30:00', bids1, asks1)\n",
    "\n",
    "bids2 = [(150 - i*0.5, 1 + i*15) for i in range(10)]\n",
    "asks2 = [(150.5 + i*0.5, 1 + i*15) for i in range(10)]\n",
    "book2 = OrderBook('Vendor2', 'AAPL', '2023-11-17 09:30:00', bids2, asks2)\n",
    "\n",
    "comparison_3 = compare_order_books(book1, book2,threshold)\n",
    "print(comparison_3)"
   ]
  },
  {
   "cell_type": "code",
   "execution_count": null,
   "metadata": {},
   "outputs": [],
   "source": []
  }
 ],
 "metadata": {
  "kernelspec": {
   "display_name": "Python 3",
   "language": "python",
   "name": "python3"
  },
  "language_info": {
   "codemirror_mode": {
    "name": "ipython",
    "version": 3
   },
   "file_extension": ".py",
   "mimetype": "text/x-python",
   "name": "python",
   "nbconvert_exporter": "python",
   "pygments_lexer": "ipython3",
   "version": "3.9.6"
  }
 },
 "nbformat": 4,
 "nbformat_minor": 2
}
